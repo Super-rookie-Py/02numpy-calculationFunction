{
 "cells": [
  {
   "cell_type": "markdown",
   "metadata": {},
   "source": [
    "# 강의노트\n",
    "### Numpy의 연산과 함수"
   ]
  },
  {
   "cell_type": "code",
   "execution_count": 2,
   "metadata": {},
   "outputs": [],
   "source": [
    "import numpy as np"
   ]
  },
  {
   "cell_type": "code",
   "execution_count": 10,
   "metadata": {},
   "outputs": [
    {
     "name": "stdout",
     "output_type": "stream",
     "text": [
      "[[2 6]\n",
      " [7 8]]\n",
      "[[20 60]\n",
      " [70 80]]\n"
     ]
    }
   ],
   "source": [
    "# numpy의 곱셈\n",
    "\n",
    "array = np.random.randint(1, 10, size=4).reshape(2, 2)\n",
    "print(array)\n",
    "\n",
    "result_array = array * 10\n",
    "print(result_array)"
   ]
  },
  {
   "cell_type": "code",
   "execution_count": 12,
   "metadata": {},
   "outputs": [
    {
     "name": "stdout",
     "output_type": "stream",
     "text": [
      "[[0 2]\n",
      " [2 4]]\n"
     ]
    }
   ],
   "source": [
    "# 서로 다른 형태의 배열을 연산할 때 행 우선으로 수행된다.\n",
    "\n",
    "array1 = np.arange(4).reshape(2, 2) #(2 X 2)\n",
    "array2 = np.arange(2) #(1 X 2)\n",
    "\n",
    "array3 = array1 + array2    #[0, 1] 배열이 [[0, 1],\n",
    "print(array3)               #               [0, 1]] 배열로 변함."
   ]
  },
  {
   "cell_type": "markdown",
   "metadata": {},
   "source": [
    "#### 브로드캐스트: 형태가 다른 배열을 연산할 수 있도록 배열의 형태를 동적으로 변환"
   ]
  },
  {
   "cell_type": "code",
   "execution_count": 16,
   "metadata": {},
   "outputs": [
    {
     "name": "stdout",
     "output_type": "stream",
     "text": [
      "[[0 1 2 3]\n",
      " [4 5 6 7]\n",
      " [0 1 2 3]\n",
      " [4 5 6 7]]\n",
      "[[0]\n",
      " [1]\n",
      " [2]\n",
      " [3]]\n",
      "[[ 0  1  2  3]\n",
      " [ 5  6  7  8]\n",
      " [ 2  3  4  5]\n",
      " [ 7  8  9 10]]\n"
     ]
    }
   ],
   "source": [
    "array1 = np.arange(8).reshape(2, 4) #(2 X 4)\n",
    "array2 = np.arange(8).reshape(2, 4) #(2 X 4)\n",
    "array3 = np.concatenate([array1, array2], axis = 0)\n",
    "array4 = np.arange(4).reshape(4, 1) #(4, 1)\n",
    "\n",
    "print(array3)\n",
    "print(array4)\n",
    "print(array3 + array4)"
   ]
  },
  {
   "cell_type": "markdown",
   "metadata": {},
   "source": [
    "## 마스킹 연산\n",
    "### 마스킹: 각원소에 대하여 체크합니다. 원소 값에 조건문을 걸어 True False로 구분함"
   ]
  },
  {
   "cell_type": "code",
   "execution_count": 22,
   "metadata": {},
   "outputs": [
    {
     "name": "stdout",
     "output_type": "stream",
     "text": [
      "[[ 0  1  2  3]\n",
      " [ 4  5  6  7]\n",
      " [ 8  9 10 11]\n",
      " [12 13 14 15]]\n",
      "[[ True  True  True  True]\n",
      " [ True  True  True  True]\n",
      " [ True  True False False]\n",
      " [False False False False]]\n",
      "[[100 100 100 100]\n",
      " [100 100 100 100]\n",
      " [100 100  10  11]\n",
      " [ 12  13  14  15]]\n"
     ]
    }
   ],
   "source": [
    "array1 = np.arange(16).reshape(4, 4)\n",
    "print(array1)\n",
    "\n",
    "array2 = array1 < 10    #10보다 작은 값은 True\n",
    "print(array2)\n",
    "\n",
    "array1[array2] = 100 # 10보다 작은 값만 100으로 변환\n",
    "print(array1)\n",
    "\n",
    "#특정 조건에 맞는 픽셀값을 뽑아오고 정리하여 작업하기 용이하다."
   ]
  },
  {
   "cell_type": "code",
   "execution_count": 25,
   "metadata": {},
   "outputs": [
    {
     "name": "stdout",
     "output_type": "stream",
     "text": [
      "최댓값:  15\n",
      "최솟값:  0\n",
      "합계:  120\n",
      "평균값:  7.5\n"
     ]
    }
   ],
   "source": [
    "# Numpy의 집계 함수\n",
    "\n",
    "array1 = np.arange(16).reshape(4, 4)\n",
    "\n",
    "print(\"최댓값: \", np.max(array1))\n",
    "print(\"최솟값: \", np.min(array1))\n",
    "print(\"합계: \", np.sum(array1))\n",
    "print(\"평균값: \", np.mean(array1))"
   ]
  },
  {
   "cell_type": "code",
   "execution_count": 30,
   "metadata": {},
   "outputs": [
    {
     "name": "stdout",
     "output_type": "stream",
     "text": [
      "[[ 0  1  2  3]\n",
      " [ 4  5  6  7]\n",
      " [ 8  9 10 11]\n",
      " [12 13 14 15]]\n",
      "합계:  [24 28 32 36]\n"
     ]
    }
   ],
   "source": [
    "# 각각의 열별로 행별로 합계\n",
    "\n",
    "print(array1)\n",
    "print(\"합계: \", np.sum(array1, axis = 0))"
   ]
  }
 ],
 "metadata": {
  "kernelspec": {
   "display_name": "Python 3",
   "language": "python",
   "name": "python3"
  },
  "language_info": {
   "codemirror_mode": {
    "name": "ipython",
    "version": 3
   },
   "file_extension": ".py",
   "mimetype": "text/x-python",
   "name": "python",
   "nbconvert_exporter": "python",
   "pygments_lexer": "ipython3",
   "version": "3.7.5"
  }
 },
 "nbformat": 4,
 "nbformat_minor": 2
}
